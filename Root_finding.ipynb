{
  "nbformat": 4,
  "nbformat_minor": 0,
  "metadata": {
    "colab": {
      "provenance": []
    },
    "kernelspec": {
      "name": "python3",
      "display_name": "Python 3"
    },
    "language_info": {
      "name": "python"
    }
  },
  "cells": [
    {
      "cell_type": "code",
      "source": [
        "\n",
        "def f(x):\n",
        "    return x**2 - 3\n",
        "\n",
        "\n",
        "def bisection(a,b,n):\n",
        "    i = 1\n",
        "    condition = True\n",
        "    while condition:\n",
        "        x = (a+b)/2\n",
        "        if f(x)<0:\n",
        "           a=x\n",
        "        else:\n",
        "           b=x\n",
        "\n",
        "        print(\"iteration = \", i, \"and x = \", x, \"for f(x) = \", f(x))\n",
        "        if i==n:\n",
        "           condition= False\n",
        "        else:\n",
        "           condition= True\n",
        "           i = i + 1\n",
        "    print(\"required root is = \", x)\n",
        "\n",
        "a = float(input(\"First approximation root : \"))\n",
        "b = float(input(\"Second approximation root : \"))\n",
        "n = int(input(\"No. of iterations : \"))\n",
        "\n",
        "if f(a)*f(b) > 0:\n",
        "   print(\"Given approximate roots do not bracket the root\")\n",
        "   print(\"Try again with different values\")\n",
        "\n",
        "else:\n",
        "   bisection(a,b,n)"
      ],
      "metadata": {
        "colab": {
          "base_uri": "https://localhost:8080/"
        },
        "id": "AuRVoFtRTG2L",
        "outputId": "2aa5a3c1-aa35-4bf9-96c2-9af123f3b9b1"
      },
      "execution_count": null,
      "outputs": [
        {
          "output_type": "stream",
          "name": "stdout",
          "text": [
            "First approximation root : 1\n",
            "Second approximation root : 3\n",
            "No. of iterations : 10\n",
            "iteration =  1 and x =  2.0 for f(x) =  1.0\n",
            "iteration =  2 and x =  1.5 for f(x) =  -0.75\n",
            "iteration =  3 and x =  1.75 for f(x) =  0.0625\n",
            "iteration =  4 and x =  1.625 for f(x) =  -0.359375\n",
            "iteration =  5 and x =  1.6875 for f(x) =  -0.15234375\n",
            "iteration =  6 and x =  1.71875 for f(x) =  -0.0458984375\n",
            "iteration =  7 and x =  1.734375 for f(x) =  0.008056640625\n",
            "iteration =  8 and x =  1.7265625 for f(x) =  -0.01898193359375\n",
            "iteration =  9 and x =  1.73046875 for f(x) =  -0.0054779052734375\n",
            "iteration =  10 and x =  1.732421875 for f(x) =  0.001285552978515625\n",
            "required root is=  1.732421875\n"
          ]
        }
      ]
    },
    {
      "cell_type": "code",
      "source": [
        "def f(x):\n",
        "    return x**2 - 3\n",
        "\n",
        "\n",
        "def bisection(a,b,e):\n",
        "    i = 1\n",
        "    x = 0\n",
        "    condition = True\n",
        "    while condition:\n",
        "        g = f(x)\n",
        "        x = (a+b)/2\n",
        "        if f(x)<0:\n",
        "           a=x\n",
        "        else:\n",
        "           b=x\n",
        "\n",
        "        print(\"iteration = \", i, \"and x = \", x, \"for f(x) = \", f(x))\n",
        "\n",
        "        i = i + 1\n",
        "        condition = abs(f(x)-g)>e\n",
        "    print(\"required root is = \", x)\n",
        "\n",
        "a = float(input(\"First approximation root : \"))\n",
        "b = float(input(\"Second approximation root : \"))\n",
        "e = float(input(\"Permissible error : \"))\n",
        "\n",
        "if f(a)*f(b) > 0:\n",
        "   print(\"Given approximate roots do not bracket the root\")\n",
        "   print(\"Try again with different values\")\n",
        "\n",
        "else:\n",
        "   bisection(a,b,e)"
      ],
      "metadata": {
        "colab": {
          "base_uri": "https://localhost:8080/"
        },
        "id": "pGbyRLqlWsk7",
        "outputId": "47fa7514-a4c2-4e4e-99a2-d1dbb5254d07"
      },
      "execution_count": null,
      "outputs": [
        {
          "output_type": "stream",
          "name": "stdout",
          "text": [
            "First approximation root : 1\n",
            "Second approximation root : 2\n",
            "Permissible error : 0.00001\n",
            "iteration =  1 and x =  1.5 for f(x) =  -0.75\n",
            "iteration =  2 and x =  1.75 for f(x) =  0.0625\n",
            "iteration =  3 and x =  1.625 for f(x) =  -0.359375\n",
            "iteration =  4 and x =  1.6875 for f(x) =  -0.15234375\n",
            "iteration =  5 and x =  1.71875 for f(x) =  -0.0458984375\n",
            "iteration =  6 and x =  1.734375 for f(x) =  0.008056640625\n",
            "iteration =  7 and x =  1.7265625 for f(x) =  -0.01898193359375\n",
            "iteration =  8 and x =  1.73046875 for f(x) =  -0.0054779052734375\n",
            "iteration =  9 and x =  1.732421875 for f(x) =  0.001285552978515625\n",
            "iteration =  10 and x =  1.7314453125 for f(x) =  -0.0020971298217773438\n",
            "iteration =  11 and x =  1.73193359375 for f(x) =  -0.00040602684020996094\n",
            "iteration =  12 and x =  1.732177734375 for f(x) =  0.00043970346450805664\n",
            "iteration =  13 and x =  1.7320556640625 for f(x) =  1.6823410987854004e-05\n",
            "iteration =  14 and x =  1.73199462890625 for f(x) =  -0.00019460543990135193\n",
            "iteration =  15 and x =  1.732025146484375 for f(x) =  -8.889194577932358e-05\n",
            "iteration =  16 and x =  1.7320404052734375 for f(x) =  -3.603450022637844e-05\n",
            "iteration =  17 and x =  1.7320480346679688 for f(x) =  -9.605602826923132e-06\n",
            "iteration =  18 and x =  1.7320518493652344 for f(x) =  3.6088895285502076e-06\n",
            "iteration =  19 and x =  1.7320499420166016 for f(x) =  -2.9983602871652693e-06\n",
            "required root is =  1.7320499420166016\n"
          ]
        }
      ]
    }
  ]
}